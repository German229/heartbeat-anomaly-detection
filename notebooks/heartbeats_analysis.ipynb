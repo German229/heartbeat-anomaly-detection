{
 "cells": [
  {
   "metadata": {},
   "cell_type": "markdown",
   "source": [
    "# <h3>Импорт библиотек</h3>\n",
    "# <p>Загрузка необходимых библиотек для работы с данными, нейросетями и их подготовки.</p>\n",
    "# <hr>"
   ],
   "id": "26a77b4fa9b3b282"
  },
  {
   "metadata": {
    "ExecuteTime": {
     "end_time": "2025-07-15T09:07:02.028889Z",
     "start_time": "2025-07-15T09:06:59.733453Z"
    }
   },
   "cell_type": "code",
   "source": [
    "import pandas as pd\n",
    "from keras.layers import BatchNormalization, Dropout\n",
    "from sklearn.preprocessing import MinMaxScaler\n",
    "from keras.utils import to_categorical\n",
    "import tensorflow as tf\n",
    "from keras import Sequential\n",
    "from keras.layers import Dense, Input, Conv1D, GlobalMaxPooling1D\n",
    "from keras.callbacks import EarlyStopping, ReduceLROnPlateau\n",
    "from sklearn.utils.class_weight import compute_class_weight\n",
    "from sklearn.model_selection import train_test_split\n",
    "from sklearn.metrics import confusion_matrix, classification_report, f1_score\n",
    "import os\n",
    "import random\n",
    "import numpy as np"
   ],
   "id": "6f0199f5f273b2f3",
   "outputs": [],
   "execution_count": 1
  },
  {
   "metadata": {},
   "cell_type": "markdown",
   "source": [
    "<h3>Фиксация random seed</h3>\n",
    "<p>Для воспроизводимости экспериментов устанавливается фиксированный random seed.</p>\n",
    "<hr>"
   ],
   "id": "23a50709fe7b7a4e"
  },
  {
   "metadata": {
    "ExecuteTime": {
     "end_time": "2025-07-15T09:07:02.044893Z",
     "start_time": "2025-07-15T09:07:02.031890Z"
    }
   },
   "cell_type": "code",
   "source": [
    "os.environ['PYTHONHASHSEED'] = str(42)\n",
    "os.environ['TF_DETERMINISTIC_OPS'] = '1'\n",
    "os.environ['TF_CUDNN_DETERMINISTIC'] = '1'\n",
    "random.seed(42)\n",
    "np.random.seed(42)\n",
    "tf.random.set_seed(42)"
   ],
   "id": "8c31c9a0d3588c88",
   "outputs": [],
   "execution_count": 2
  },
  {
   "metadata": {},
   "cell_type": "markdown",
   "source": [
    "<h3>Определение устройства для вычислений</h3>\n",
    "<p>Автоматический выбор GPU или CPU для совместимости кода с любой платформой.</p>\n",
    "<hr>"
   ],
   "id": "8205d7aefde8baf3"
  },
  {
   "metadata": {
    "ExecuteTime": {
     "end_time": "2025-07-15T09:07:02.250939Z",
     "start_time": "2025-07-15T09:07:02.172922Z"
    }
   },
   "cell_type": "code",
   "source": [
    "has_gpu = len(tf.config.list_physical_devices('GPU')) > 0\n",
    "device_name = '/GPU:0' if has_gpu else '/CPU:0'\n",
    "print(f\"Используется устройство: {device_name}\")"
   ],
   "id": "f5ebfb3dcd1cfee7",
   "outputs": [
    {
     "name": "stdout",
     "output_type": "stream",
     "text": [
      "Используется устройство: /GPU:0\n"
     ]
    }
   ],
   "execution_count": 3
  },
  {
   "metadata": {},
   "cell_type": "markdown",
   "source": [
    "<h3>Загрузка данных</h3>\n",
    "<p>Загрузка набора данных с сердечными сокращениями из CSV-файла.</p>\n",
    "<hr>"
   ],
   "id": "d67022cc4545c9d4"
  },
  {
   "metadata": {
    "ExecuteTime": {
     "end_time": "2025-07-15T09:07:02.871382Z",
     "start_time": "2025-07-15T09:07:02.267136Z"
    }
   },
   "cell_type": "code",
   "source": "heartbeats_df = pd.read_csv(\"../files/mitbih_test.csv\", sep=',', header=None)",
   "id": "f179ddf33e47e859",
   "outputs": [],
   "execution_count": 4
  },
  {
   "metadata": {},
   "cell_type": "markdown",
   "source": [
    "<h3>Предварительный просмотр данных</h3>\n",
    "<p>Отображение первых 10 строк датасета.</p>\n",
    "<hr>"
   ],
   "id": "ef1a1be98ceee442"
  },
  {
   "metadata": {
    "ExecuteTime": {
     "end_time": "2025-07-15T09:07:02.917276Z",
     "start_time": "2025-07-15T09:07:02.888386Z"
    }
   },
   "cell_type": "code",
   "source": "heartbeats_df.head(10)",
   "id": "58c4e3ea25b3ec83",
   "outputs": [
    {
     "data": {
      "text/plain": [
       "        0         1         2         3         4         5         6    \\\n",
       "0  1.000000  0.758264  0.111570  0.000000  0.080579  0.078512  0.066116   \n",
       "1  0.908425  0.783883  0.531136  0.362637  0.366300  0.344322  0.333333   \n",
       "2  0.730088  0.212389  0.000000  0.119469  0.101770  0.101770  0.110619   \n",
       "3  1.000000  0.910417  0.681250  0.472917  0.229167  0.068750  0.000000   \n",
       "4  0.570470  0.399329  0.238255  0.147651  0.000000  0.003356  0.040268   \n",
       "5  1.000000  0.923664  0.656489  0.195929  0.111959  0.175573  0.122137   \n",
       "6  1.000000  0.797260  0.320548  0.043836  0.049315  0.065753  0.030137   \n",
       "7  0.909408  0.975610  0.533101  0.134146  0.066202  0.000000  0.010453   \n",
       "8  0.927803  0.866359  0.299539  0.000000  0.231951  0.317972  0.274962   \n",
       "9  1.000000  0.914230  0.473684  0.000000  0.064327  0.317739  0.405458   \n",
       "\n",
       "        7         8         9    ...  178  179  180  181  182  183  184  185  \\\n",
       "0  0.049587  0.047521  0.035124  ...  0.0  0.0  0.0  0.0  0.0  0.0  0.0  0.0   \n",
       "1  0.307692  0.296703  0.300366  ...  0.0  0.0  0.0  0.0  0.0  0.0  0.0  0.0   \n",
       "2  0.123894  0.115044  0.132743  ...  0.0  0.0  0.0  0.0  0.0  0.0  0.0  0.0   \n",
       "3  0.004167  0.014583  0.054167  ...  0.0  0.0  0.0  0.0  0.0  0.0  0.0  0.0   \n",
       "4  0.080537  0.070470  0.090604  ...  0.0  0.0  0.0  0.0  0.0  0.0  0.0  0.0   \n",
       "5  0.050891  0.035623  0.055980  ...  0.0  0.0  0.0  0.0  0.0  0.0  0.0  0.0   \n",
       "6  0.008219  0.005479  0.010959  ...  0.0  0.0  0.0  0.0  0.0  0.0  0.0  0.0   \n",
       "7  0.012195  0.031359  0.146341  ...  0.0  0.0  0.0  0.0  0.0  0.0  0.0  0.0   \n",
       "8  0.262673  0.270353  0.268817  ...  0.0  0.0  0.0  0.0  0.0  0.0  0.0  0.0   \n",
       "9  0.391813  0.382066  0.401559  ...  0.0  0.0  0.0  0.0  0.0  0.0  0.0  0.0   \n",
       "\n",
       "   186  187  \n",
       "0  0.0  0.0  \n",
       "1  0.0  0.0  \n",
       "2  0.0  0.0  \n",
       "3  0.0  0.0  \n",
       "4  0.0  0.0  \n",
       "5  0.0  0.0  \n",
       "6  0.0  0.0  \n",
       "7  0.0  0.0  \n",
       "8  0.0  0.0  \n",
       "9  0.0  0.0  \n",
       "\n",
       "[10 rows x 188 columns]"
      ],
      "text/html": [
       "<div>\n",
       "<style scoped>\n",
       "    .dataframe tbody tr th:only-of-type {\n",
       "        vertical-align: middle;\n",
       "    }\n",
       "\n",
       "    .dataframe tbody tr th {\n",
       "        vertical-align: top;\n",
       "    }\n",
       "\n",
       "    .dataframe thead th {\n",
       "        text-align: right;\n",
       "    }\n",
       "</style>\n",
       "<table border=\"1\" class=\"dataframe\">\n",
       "  <thead>\n",
       "    <tr style=\"text-align: right;\">\n",
       "      <th></th>\n",
       "      <th>0</th>\n",
       "      <th>1</th>\n",
       "      <th>2</th>\n",
       "      <th>3</th>\n",
       "      <th>4</th>\n",
       "      <th>5</th>\n",
       "      <th>6</th>\n",
       "      <th>7</th>\n",
       "      <th>8</th>\n",
       "      <th>9</th>\n",
       "      <th>...</th>\n",
       "      <th>178</th>\n",
       "      <th>179</th>\n",
       "      <th>180</th>\n",
       "      <th>181</th>\n",
       "      <th>182</th>\n",
       "      <th>183</th>\n",
       "      <th>184</th>\n",
       "      <th>185</th>\n",
       "      <th>186</th>\n",
       "      <th>187</th>\n",
       "    </tr>\n",
       "  </thead>\n",
       "  <tbody>\n",
       "    <tr>\n",
       "      <th>0</th>\n",
       "      <td>1.000000</td>\n",
       "      <td>0.758264</td>\n",
       "      <td>0.111570</td>\n",
       "      <td>0.000000</td>\n",
       "      <td>0.080579</td>\n",
       "      <td>0.078512</td>\n",
       "      <td>0.066116</td>\n",
       "      <td>0.049587</td>\n",
       "      <td>0.047521</td>\n",
       "      <td>0.035124</td>\n",
       "      <td>...</td>\n",
       "      <td>0.0</td>\n",
       "      <td>0.0</td>\n",
       "      <td>0.0</td>\n",
       "      <td>0.0</td>\n",
       "      <td>0.0</td>\n",
       "      <td>0.0</td>\n",
       "      <td>0.0</td>\n",
       "      <td>0.0</td>\n",
       "      <td>0.0</td>\n",
       "      <td>0.0</td>\n",
       "    </tr>\n",
       "    <tr>\n",
       "      <th>1</th>\n",
       "      <td>0.908425</td>\n",
       "      <td>0.783883</td>\n",
       "      <td>0.531136</td>\n",
       "      <td>0.362637</td>\n",
       "      <td>0.366300</td>\n",
       "      <td>0.344322</td>\n",
       "      <td>0.333333</td>\n",
       "      <td>0.307692</td>\n",
       "      <td>0.296703</td>\n",
       "      <td>0.300366</td>\n",
       "      <td>...</td>\n",
       "      <td>0.0</td>\n",
       "      <td>0.0</td>\n",
       "      <td>0.0</td>\n",
       "      <td>0.0</td>\n",
       "      <td>0.0</td>\n",
       "      <td>0.0</td>\n",
       "      <td>0.0</td>\n",
       "      <td>0.0</td>\n",
       "      <td>0.0</td>\n",
       "      <td>0.0</td>\n",
       "    </tr>\n",
       "    <tr>\n",
       "      <th>2</th>\n",
       "      <td>0.730088</td>\n",
       "      <td>0.212389</td>\n",
       "      <td>0.000000</td>\n",
       "      <td>0.119469</td>\n",
       "      <td>0.101770</td>\n",
       "      <td>0.101770</td>\n",
       "      <td>0.110619</td>\n",
       "      <td>0.123894</td>\n",
       "      <td>0.115044</td>\n",
       "      <td>0.132743</td>\n",
       "      <td>...</td>\n",
       "      <td>0.0</td>\n",
       "      <td>0.0</td>\n",
       "      <td>0.0</td>\n",
       "      <td>0.0</td>\n",
       "      <td>0.0</td>\n",
       "      <td>0.0</td>\n",
       "      <td>0.0</td>\n",
       "      <td>0.0</td>\n",
       "      <td>0.0</td>\n",
       "      <td>0.0</td>\n",
       "    </tr>\n",
       "    <tr>\n",
       "      <th>3</th>\n",
       "      <td>1.000000</td>\n",
       "      <td>0.910417</td>\n",
       "      <td>0.681250</td>\n",
       "      <td>0.472917</td>\n",
       "      <td>0.229167</td>\n",
       "      <td>0.068750</td>\n",
       "      <td>0.000000</td>\n",
       "      <td>0.004167</td>\n",
       "      <td>0.014583</td>\n",
       "      <td>0.054167</td>\n",
       "      <td>...</td>\n",
       "      <td>0.0</td>\n",
       "      <td>0.0</td>\n",
       "      <td>0.0</td>\n",
       "      <td>0.0</td>\n",
       "      <td>0.0</td>\n",
       "      <td>0.0</td>\n",
       "      <td>0.0</td>\n",
       "      <td>0.0</td>\n",
       "      <td>0.0</td>\n",
       "      <td>0.0</td>\n",
       "    </tr>\n",
       "    <tr>\n",
       "      <th>4</th>\n",
       "      <td>0.570470</td>\n",
       "      <td>0.399329</td>\n",
       "      <td>0.238255</td>\n",
       "      <td>0.147651</td>\n",
       "      <td>0.000000</td>\n",
       "      <td>0.003356</td>\n",
       "      <td>0.040268</td>\n",
       "      <td>0.080537</td>\n",
       "      <td>0.070470</td>\n",
       "      <td>0.090604</td>\n",
       "      <td>...</td>\n",
       "      <td>0.0</td>\n",
       "      <td>0.0</td>\n",
       "      <td>0.0</td>\n",
       "      <td>0.0</td>\n",
       "      <td>0.0</td>\n",
       "      <td>0.0</td>\n",
       "      <td>0.0</td>\n",
       "      <td>0.0</td>\n",
       "      <td>0.0</td>\n",
       "      <td>0.0</td>\n",
       "    </tr>\n",
       "    <tr>\n",
       "      <th>5</th>\n",
       "      <td>1.000000</td>\n",
       "      <td>0.923664</td>\n",
       "      <td>0.656489</td>\n",
       "      <td>0.195929</td>\n",
       "      <td>0.111959</td>\n",
       "      <td>0.175573</td>\n",
       "      <td>0.122137</td>\n",
       "      <td>0.050891</td>\n",
       "      <td>0.035623</td>\n",
       "      <td>0.055980</td>\n",
       "      <td>...</td>\n",
       "      <td>0.0</td>\n",
       "      <td>0.0</td>\n",
       "      <td>0.0</td>\n",
       "      <td>0.0</td>\n",
       "      <td>0.0</td>\n",
       "      <td>0.0</td>\n",
       "      <td>0.0</td>\n",
       "      <td>0.0</td>\n",
       "      <td>0.0</td>\n",
       "      <td>0.0</td>\n",
       "    </tr>\n",
       "    <tr>\n",
       "      <th>6</th>\n",
       "      <td>1.000000</td>\n",
       "      <td>0.797260</td>\n",
       "      <td>0.320548</td>\n",
       "      <td>0.043836</td>\n",
       "      <td>0.049315</td>\n",
       "      <td>0.065753</td>\n",
       "      <td>0.030137</td>\n",
       "      <td>0.008219</td>\n",
       "      <td>0.005479</td>\n",
       "      <td>0.010959</td>\n",
       "      <td>...</td>\n",
       "      <td>0.0</td>\n",
       "      <td>0.0</td>\n",
       "      <td>0.0</td>\n",
       "      <td>0.0</td>\n",
       "      <td>0.0</td>\n",
       "      <td>0.0</td>\n",
       "      <td>0.0</td>\n",
       "      <td>0.0</td>\n",
       "      <td>0.0</td>\n",
       "      <td>0.0</td>\n",
       "    </tr>\n",
       "    <tr>\n",
       "      <th>7</th>\n",
       "      <td>0.909408</td>\n",
       "      <td>0.975610</td>\n",
       "      <td>0.533101</td>\n",
       "      <td>0.134146</td>\n",
       "      <td>0.066202</td>\n",
       "      <td>0.000000</td>\n",
       "      <td>0.010453</td>\n",
       "      <td>0.012195</td>\n",
       "      <td>0.031359</td>\n",
       "      <td>0.146341</td>\n",
       "      <td>...</td>\n",
       "      <td>0.0</td>\n",
       "      <td>0.0</td>\n",
       "      <td>0.0</td>\n",
       "      <td>0.0</td>\n",
       "      <td>0.0</td>\n",
       "      <td>0.0</td>\n",
       "      <td>0.0</td>\n",
       "      <td>0.0</td>\n",
       "      <td>0.0</td>\n",
       "      <td>0.0</td>\n",
       "    </tr>\n",
       "    <tr>\n",
       "      <th>8</th>\n",
       "      <td>0.927803</td>\n",
       "      <td>0.866359</td>\n",
       "      <td>0.299539</td>\n",
       "      <td>0.000000</td>\n",
       "      <td>0.231951</td>\n",
       "      <td>0.317972</td>\n",
       "      <td>0.274962</td>\n",
       "      <td>0.262673</td>\n",
       "      <td>0.270353</td>\n",
       "      <td>0.268817</td>\n",
       "      <td>...</td>\n",
       "      <td>0.0</td>\n",
       "      <td>0.0</td>\n",
       "      <td>0.0</td>\n",
       "      <td>0.0</td>\n",
       "      <td>0.0</td>\n",
       "      <td>0.0</td>\n",
       "      <td>0.0</td>\n",
       "      <td>0.0</td>\n",
       "      <td>0.0</td>\n",
       "      <td>0.0</td>\n",
       "    </tr>\n",
       "    <tr>\n",
       "      <th>9</th>\n",
       "      <td>1.000000</td>\n",
       "      <td>0.914230</td>\n",
       "      <td>0.473684</td>\n",
       "      <td>0.000000</td>\n",
       "      <td>0.064327</td>\n",
       "      <td>0.317739</td>\n",
       "      <td>0.405458</td>\n",
       "      <td>0.391813</td>\n",
       "      <td>0.382066</td>\n",
       "      <td>0.401559</td>\n",
       "      <td>...</td>\n",
       "      <td>0.0</td>\n",
       "      <td>0.0</td>\n",
       "      <td>0.0</td>\n",
       "      <td>0.0</td>\n",
       "      <td>0.0</td>\n",
       "      <td>0.0</td>\n",
       "      <td>0.0</td>\n",
       "      <td>0.0</td>\n",
       "      <td>0.0</td>\n",
       "      <td>0.0</td>\n",
       "    </tr>\n",
       "  </tbody>\n",
       "</table>\n",
       "<p>10 rows × 188 columns</p>\n",
       "</div>"
      ]
     },
     "execution_count": 5,
     "metadata": {},
     "output_type": "execute_result"
    }
   ],
   "execution_count": 5
  },
  {
   "metadata": {},
   "cell_type": "markdown",
   "source": [
    "<h3>Анализ размерности данных</h3>\n",
    "<p>Проверка количества строк и столбцов.</p>\n",
    "<hr>"
   ],
   "id": "5d6fa53e7a611960"
  },
  {
   "metadata": {
    "ExecuteTime": {
     "end_time": "2025-07-15T09:07:03.074424Z",
     "start_time": "2025-07-15T09:07:03.059421Z"
    }
   },
   "cell_type": "code",
   "source": "heartbeats_df.shape",
   "id": "32a54e6ead2af6fd",
   "outputs": [
    {
     "data": {
      "text/plain": [
       "(21892, 188)"
      ]
     },
     "execution_count": 6,
     "metadata": {},
     "output_type": "execute_result"
    }
   ],
   "execution_count": 6
  },
  {
   "metadata": {},
   "cell_type": "markdown",
   "source": [
    "<h3>Статистическое описание признаков</h3>\n",
    "<p>Просмотр описательных статистик по каждому столбцу.</p>\n",
    "<hr>"
   ],
   "id": "51356a075abbc922"
  },
  {
   "metadata": {
    "ExecuteTime": {
     "end_time": "2025-07-15T09:07:03.330098Z",
     "start_time": "2025-07-15T09:07:03.107432Z"
    }
   },
   "cell_type": "code",
   "source": "heartbeats_df.describe()",
   "id": "4b40b84b73467507",
   "outputs": [
    {
     "data": {
      "text/plain": [
       "                0             1             2             3             4    \\\n",
       "count  21892.000000  21892.000000  21892.000000  21892.000000  21892.000000   \n",
       "mean       0.894410      0.761902      0.426627      0.221596      0.201676   \n",
       "std        0.234560      0.218659      0.228572      0.208711      0.177727   \n",
       "min        0.000000      0.000000      0.000000      0.000000      0.000000   \n",
       "25%        0.924260      0.683366      0.251197      0.050505      0.082873   \n",
       "50%        0.990431      0.828996      0.432777      0.167630      0.147642   \n",
       "75%        1.000000      0.912319      0.583991      0.347092      0.259211   \n",
       "max        1.000000      1.000000      1.000000      1.000000      1.000000   \n",
       "\n",
       "                5             6             7             8             9    \\\n",
       "count  21892.000000  21892.000000  21892.000000  21892.000000  21892.000000   \n",
       "mean       0.209891      0.204805      0.200992      0.197634      0.196022   \n",
       "std        0.172194      0.177946      0.176142      0.170228      0.166707   \n",
       "min        0.000000      0.000000      0.000000      0.000000      0.000000   \n",
       "25%        0.087912      0.072663      0.065997      0.064516      0.068493   \n",
       "50%        0.158111      0.144068      0.144509      0.150422      0.149029   \n",
       "75%        0.287356      0.298453      0.294563      0.289907      0.282956   \n",
       "max        1.000000      1.000000      1.000000      1.000000      0.991429   \n",
       "\n",
       "       ...           178           179           180           181  \\\n",
       "count  ...  21892.000000  21892.000000  21892.000000  21892.000000   \n",
       "mean   ...      0.004588      0.004327      0.004020      0.003789   \n",
       "std    ...      0.043128      0.042187      0.040255      0.039397   \n",
       "min    ...      0.000000      0.000000      0.000000      0.000000   \n",
       "25%    ...      0.000000      0.000000      0.000000      0.000000   \n",
       "50%    ...      0.000000      0.000000      0.000000      0.000000   \n",
       "75%    ...      0.000000      0.000000      0.000000      0.000000   \n",
       "max    ...      0.980392      1.000000      0.966102      1.000000   \n",
       "\n",
       "                182           183           184           185           186  \\\n",
       "count  21892.000000  21892.000000  21892.000000  21892.000000  21892.000000   \n",
       "mean       0.003638      0.003459      0.003166      0.003000      0.002946   \n",
       "std        0.038535      0.037717      0.035903      0.035522      0.035266   \n",
       "min        0.000000      0.000000      0.000000      0.000000      0.000000   \n",
       "25%        0.000000      0.000000      0.000000      0.000000      0.000000   \n",
       "50%        0.000000      0.000000      0.000000      0.000000      0.000000   \n",
       "75%        0.000000      0.000000      0.000000      0.000000      0.000000   \n",
       "max        1.000000      1.000000      1.000000      0.996053      1.000000   \n",
       "\n",
       "                187  \n",
       "count  21892.000000  \n",
       "mean       0.473689  \n",
       "std        1.143447  \n",
       "min        0.000000  \n",
       "25%        0.000000  \n",
       "50%        0.000000  \n",
       "75%        0.000000  \n",
       "max        4.000000  \n",
       "\n",
       "[8 rows x 188 columns]"
      ],
      "text/html": [
       "<div>\n",
       "<style scoped>\n",
       "    .dataframe tbody tr th:only-of-type {\n",
       "        vertical-align: middle;\n",
       "    }\n",
       "\n",
       "    .dataframe tbody tr th {\n",
       "        vertical-align: top;\n",
       "    }\n",
       "\n",
       "    .dataframe thead th {\n",
       "        text-align: right;\n",
       "    }\n",
       "</style>\n",
       "<table border=\"1\" class=\"dataframe\">\n",
       "  <thead>\n",
       "    <tr style=\"text-align: right;\">\n",
       "      <th></th>\n",
       "      <th>0</th>\n",
       "      <th>1</th>\n",
       "      <th>2</th>\n",
       "      <th>3</th>\n",
       "      <th>4</th>\n",
       "      <th>5</th>\n",
       "      <th>6</th>\n",
       "      <th>7</th>\n",
       "      <th>8</th>\n",
       "      <th>9</th>\n",
       "      <th>...</th>\n",
       "      <th>178</th>\n",
       "      <th>179</th>\n",
       "      <th>180</th>\n",
       "      <th>181</th>\n",
       "      <th>182</th>\n",
       "      <th>183</th>\n",
       "      <th>184</th>\n",
       "      <th>185</th>\n",
       "      <th>186</th>\n",
       "      <th>187</th>\n",
       "    </tr>\n",
       "  </thead>\n",
       "  <tbody>\n",
       "    <tr>\n",
       "      <th>count</th>\n",
       "      <td>21892.000000</td>\n",
       "      <td>21892.000000</td>\n",
       "      <td>21892.000000</td>\n",
       "      <td>21892.000000</td>\n",
       "      <td>21892.000000</td>\n",
       "      <td>21892.000000</td>\n",
       "      <td>21892.000000</td>\n",
       "      <td>21892.000000</td>\n",
       "      <td>21892.000000</td>\n",
       "      <td>21892.000000</td>\n",
       "      <td>...</td>\n",
       "      <td>21892.000000</td>\n",
       "      <td>21892.000000</td>\n",
       "      <td>21892.000000</td>\n",
       "      <td>21892.000000</td>\n",
       "      <td>21892.000000</td>\n",
       "      <td>21892.000000</td>\n",
       "      <td>21892.000000</td>\n",
       "      <td>21892.000000</td>\n",
       "      <td>21892.000000</td>\n",
       "      <td>21892.000000</td>\n",
       "    </tr>\n",
       "    <tr>\n",
       "      <th>mean</th>\n",
       "      <td>0.894410</td>\n",
       "      <td>0.761902</td>\n",
       "      <td>0.426627</td>\n",
       "      <td>0.221596</td>\n",
       "      <td>0.201676</td>\n",
       "      <td>0.209891</td>\n",
       "      <td>0.204805</td>\n",
       "      <td>0.200992</td>\n",
       "      <td>0.197634</td>\n",
       "      <td>0.196022</td>\n",
       "      <td>...</td>\n",
       "      <td>0.004588</td>\n",
       "      <td>0.004327</td>\n",
       "      <td>0.004020</td>\n",
       "      <td>0.003789</td>\n",
       "      <td>0.003638</td>\n",
       "      <td>0.003459</td>\n",
       "      <td>0.003166</td>\n",
       "      <td>0.003000</td>\n",
       "      <td>0.002946</td>\n",
       "      <td>0.473689</td>\n",
       "    </tr>\n",
       "    <tr>\n",
       "      <th>std</th>\n",
       "      <td>0.234560</td>\n",
       "      <td>0.218659</td>\n",
       "      <td>0.228572</td>\n",
       "      <td>0.208711</td>\n",
       "      <td>0.177727</td>\n",
       "      <td>0.172194</td>\n",
       "      <td>0.177946</td>\n",
       "      <td>0.176142</td>\n",
       "      <td>0.170228</td>\n",
       "      <td>0.166707</td>\n",
       "      <td>...</td>\n",
       "      <td>0.043128</td>\n",
       "      <td>0.042187</td>\n",
       "      <td>0.040255</td>\n",
       "      <td>0.039397</td>\n",
       "      <td>0.038535</td>\n",
       "      <td>0.037717</td>\n",
       "      <td>0.035903</td>\n",
       "      <td>0.035522</td>\n",
       "      <td>0.035266</td>\n",
       "      <td>1.143447</td>\n",
       "    </tr>\n",
       "    <tr>\n",
       "      <th>min</th>\n",
       "      <td>0.000000</td>\n",
       "      <td>0.000000</td>\n",
       "      <td>0.000000</td>\n",
       "      <td>0.000000</td>\n",
       "      <td>0.000000</td>\n",
       "      <td>0.000000</td>\n",
       "      <td>0.000000</td>\n",
       "      <td>0.000000</td>\n",
       "      <td>0.000000</td>\n",
       "      <td>0.000000</td>\n",
       "      <td>...</td>\n",
       "      <td>0.000000</td>\n",
       "      <td>0.000000</td>\n",
       "      <td>0.000000</td>\n",
       "      <td>0.000000</td>\n",
       "      <td>0.000000</td>\n",
       "      <td>0.000000</td>\n",
       "      <td>0.000000</td>\n",
       "      <td>0.000000</td>\n",
       "      <td>0.000000</td>\n",
       "      <td>0.000000</td>\n",
       "    </tr>\n",
       "    <tr>\n",
       "      <th>25%</th>\n",
       "      <td>0.924260</td>\n",
       "      <td>0.683366</td>\n",
       "      <td>0.251197</td>\n",
       "      <td>0.050505</td>\n",
       "      <td>0.082873</td>\n",
       "      <td>0.087912</td>\n",
       "      <td>0.072663</td>\n",
       "      <td>0.065997</td>\n",
       "      <td>0.064516</td>\n",
       "      <td>0.068493</td>\n",
       "      <td>...</td>\n",
       "      <td>0.000000</td>\n",
       "      <td>0.000000</td>\n",
       "      <td>0.000000</td>\n",
       "      <td>0.000000</td>\n",
       "      <td>0.000000</td>\n",
       "      <td>0.000000</td>\n",
       "      <td>0.000000</td>\n",
       "      <td>0.000000</td>\n",
       "      <td>0.000000</td>\n",
       "      <td>0.000000</td>\n",
       "    </tr>\n",
       "    <tr>\n",
       "      <th>50%</th>\n",
       "      <td>0.990431</td>\n",
       "      <td>0.828996</td>\n",
       "      <td>0.432777</td>\n",
       "      <td>0.167630</td>\n",
       "      <td>0.147642</td>\n",
       "      <td>0.158111</td>\n",
       "      <td>0.144068</td>\n",
       "      <td>0.144509</td>\n",
       "      <td>0.150422</td>\n",
       "      <td>0.149029</td>\n",
       "      <td>...</td>\n",
       "      <td>0.000000</td>\n",
       "      <td>0.000000</td>\n",
       "      <td>0.000000</td>\n",
       "      <td>0.000000</td>\n",
       "      <td>0.000000</td>\n",
       "      <td>0.000000</td>\n",
       "      <td>0.000000</td>\n",
       "      <td>0.000000</td>\n",
       "      <td>0.000000</td>\n",
       "      <td>0.000000</td>\n",
       "    </tr>\n",
       "    <tr>\n",
       "      <th>75%</th>\n",
       "      <td>1.000000</td>\n",
       "      <td>0.912319</td>\n",
       "      <td>0.583991</td>\n",
       "      <td>0.347092</td>\n",
       "      <td>0.259211</td>\n",
       "      <td>0.287356</td>\n",
       "      <td>0.298453</td>\n",
       "      <td>0.294563</td>\n",
       "      <td>0.289907</td>\n",
       "      <td>0.282956</td>\n",
       "      <td>...</td>\n",
       "      <td>0.000000</td>\n",
       "      <td>0.000000</td>\n",
       "      <td>0.000000</td>\n",
       "      <td>0.000000</td>\n",
       "      <td>0.000000</td>\n",
       "      <td>0.000000</td>\n",
       "      <td>0.000000</td>\n",
       "      <td>0.000000</td>\n",
       "      <td>0.000000</td>\n",
       "      <td>0.000000</td>\n",
       "    </tr>\n",
       "    <tr>\n",
       "      <th>max</th>\n",
       "      <td>1.000000</td>\n",
       "      <td>1.000000</td>\n",
       "      <td>1.000000</td>\n",
       "      <td>1.000000</td>\n",
       "      <td>1.000000</td>\n",
       "      <td>1.000000</td>\n",
       "      <td>1.000000</td>\n",
       "      <td>1.000000</td>\n",
       "      <td>1.000000</td>\n",
       "      <td>0.991429</td>\n",
       "      <td>...</td>\n",
       "      <td>0.980392</td>\n",
       "      <td>1.000000</td>\n",
       "      <td>0.966102</td>\n",
       "      <td>1.000000</td>\n",
       "      <td>1.000000</td>\n",
       "      <td>1.000000</td>\n",
       "      <td>1.000000</td>\n",
       "      <td>0.996053</td>\n",
       "      <td>1.000000</td>\n",
       "      <td>4.000000</td>\n",
       "    </tr>\n",
       "  </tbody>\n",
       "</table>\n",
       "<p>8 rows × 188 columns</p>\n",
       "</div>"
      ]
     },
     "execution_count": 7,
     "metadata": {},
     "output_type": "execute_result"
    }
   ],
   "execution_count": 7
  },
  {
   "metadata": {},
   "cell_type": "markdown",
   "source": [
    "<h3>Информация о типах данных</h3>\n",
    "<p>Анализ типов и наличия пропусков в данных.</p>\n",
    "<hr>"
   ],
   "id": "aae42c37101b3dc1"
  },
  {
   "metadata": {
    "ExecuteTime": {
     "end_time": "2025-07-15T09:07:03.504145Z",
     "start_time": "2025-07-15T09:07:03.489142Z"
    }
   },
   "cell_type": "code",
   "source": "heartbeats_df.info()",
   "id": "bc312b4a76317b33",
   "outputs": [
    {
     "name": "stdout",
     "output_type": "stream",
     "text": [
      "<class 'pandas.core.frame.DataFrame'>\n",
      "RangeIndex: 21892 entries, 0 to 21891\n",
      "Columns: 188 entries, 0 to 187\n",
      "dtypes: float64(188)\n",
      "memory usage: 31.4 MB\n"
     ]
    }
   ],
   "execution_count": 8
  },
  {
   "metadata": {},
   "cell_type": "markdown",
   "source": [
    "<h3>Формирование целевой переменной</h3>\n",
    "<p>Выделение целевой переменной и удаление её из признаков.</p>\n",
    "<hr>"
   ],
   "id": "2ef1621a89018dab"
  },
  {
   "metadata": {
    "ExecuteTime": {
     "end_time": "2025-07-15T09:07:03.566724Z",
     "start_time": "2025-07-15T09:07:03.551720Z"
    }
   },
   "cell_type": "code",
   "source": [
    "y = heartbeats_df.iloc[:, -1]\n",
    "col_name = heartbeats_df.columns[-1]\n",
    "heartbeats_df = heartbeats_df.drop(col_name, axis=1)"
   ],
   "id": "6609dd0cedec01e3",
   "outputs": [],
   "execution_count": 9
  },
  {
   "metadata": {},
   "cell_type": "markdown",
   "source": [
    "<h3>Анализ классов</h3>\n",
    "<p>Проверка уникальных меток классов в целевой переменной.</p>\n",
    "<hr>"
   ],
   "id": "8f7cb285e6d67aac"
  },
  {
   "metadata": {
    "ExecuteTime": {
     "end_time": "2025-07-15T09:07:03.756109Z",
     "start_time": "2025-07-15T09:07:03.742112Z"
    }
   },
   "cell_type": "code",
   "source": "y.unique()",
   "id": "73c433ea6df60fc1",
   "outputs": [
    {
     "data": {
      "text/plain": [
       "array([0., 1., 2., 3., 4.])"
      ]
     },
     "execution_count": 10,
     "metadata": {},
     "output_type": "execute_result"
    }
   ],
   "execution_count": 10
  },
  {
   "metadata": {},
   "cell_type": "markdown",
   "source": [
    "<h3>Масштабирование признаков</h3>\n",
    "<p>Нормализация данных с помощью MinMaxScaler для корректной работы модели.</p>\n",
    "<hr>"
   ],
   "id": "2b5d78fa1dcacae"
  },
  {
   "metadata": {
    "ExecuteTime": {
     "end_time": "2025-07-15T09:07:03.978160Z",
     "start_time": "2025-07-15T09:07:03.932149Z"
    }
   },
   "cell_type": "code",
   "source": [
    "scalar = MinMaxScaler()\n",
    "heartbeats_df = scalar.fit_transform(heartbeats_df)"
   ],
   "id": "e0e911e5ee912cee",
   "outputs": [],
   "execution_count": 11
  },
  {
   "metadata": {},
   "cell_type": "markdown",
   "source": [
    "<h3>One-hot кодирование целевой переменной и изменение формы признаков</h3>\n",
    "<p>Преобразование целевой переменной в one-hot формат, изменение формы X для подачи в Conv1D.</p>\n",
    "<hr>"
   ],
   "id": "3ecca4d9b76eacd2"
  },
  {
   "metadata": {
    "ExecuteTime": {
     "end_time": "2025-07-15T09:07:04.010280Z",
     "start_time": "2025-07-15T09:07:03.995280Z"
    }
   },
   "cell_type": "code",
   "source": [
    "y = to_categorical(y, 5)\n",
    "X = heartbeats_df.reshape(heartbeats_df.shape[0], heartbeats_df.shape[1], 1)"
   ],
   "id": "200f47b271a5acfc",
   "outputs": [],
   "execution_count": 12
  },
  {
   "metadata": {},
   "cell_type": "markdown",
   "source": [
    "<h3>Проверка размерностей данных</h3>\n",
    "<p>Печать форм признаков и целевой переменной для контроля.</p>\n",
    "<hr>"
   ],
   "id": "aa8d3c2745674d7"
  },
  {
   "metadata": {
    "ExecuteTime": {
     "end_time": "2025-07-15T09:07:04.042288Z",
     "start_time": "2025-07-15T09:07:04.028285Z"
    }
   },
   "cell_type": "code",
   "source": [
    "print(\"X shape: \", X.shape)\n",
    "print(\"y shape: \", y.shape)"
   ],
   "id": "64b16ef8bd5107e3",
   "outputs": [
    {
     "name": "stdout",
     "output_type": "stream",
     "text": [
      "X shape:  (21892, 187, 1)\n",
      "y shape:  (21892, 5)\n"
     ]
    }
   ],
   "execution_count": 13
  },
  {
   "metadata": {},
   "cell_type": "markdown",
   "source": [
    "<h3>Инициализация callbacks</h3>\n",
    "<p>Создание callbacks для ранней остановки обучения и динамической коррекции learning rate.</p>\n",
    "<hr>"
   ],
   "id": "d44da756804ae0a8"
  },
  {
   "metadata": {
    "ExecuteTime": {
     "end_time": "2025-07-15T09:07:04.074295Z",
     "start_time": "2025-07-15T09:07:04.059292Z"
    }
   },
   "cell_type": "code",
   "source": [
    "early_stop = EarlyStopping(monitor='val_loss', patience=4, restore_best_weights=True)\n",
    "reduce_lr = ReduceLROnPlateau(monitor='val_loss', factor=0.5, patience=3)"
   ],
   "id": "925970921bb40c1a",
   "outputs": [],
   "execution_count": 14
  },
  {
   "metadata": {},
   "cell_type": "markdown",
   "source": [
    "<h3>Вычисление весов классов</h3>\n",
    "<p>Для балансировки классов рассчитываются веса классов.</p>\n",
    "<hr>"
   ],
   "id": "ef2161ae088fdcad"
  },
  {
   "metadata": {
    "ExecuteTime": {
     "end_time": "2025-07-15T09:07:04.105384Z",
     "start_time": "2025-07-15T09:07:04.090690Z"
    }
   },
   "cell_type": "code",
   "source": [
    "y_labels = np.argmax(y, axis=1)\n",
    "class_weights = compute_class_weight('balanced', classes=np.unique(y_labels), y=y_labels)\n",
    "class_weight_dict = dict(enumerate(class_weights))"
   ],
   "id": "65f9533c1b2c28cc",
   "outputs": [],
   "execution_count": 15
  },
  {
   "metadata": {},
   "cell_type": "markdown",
   "source": [
    "<h3>Разделение данных на обучающую и тестовую выборки</h3>\n",
    "<p>Данные делятся на обучающую и тестовую части с сохранением пропорций классов.</p>\n",
    "<hr>"
   ],
   "id": "1bc03c066fa4349"
  },
  {
   "metadata": {
    "ExecuteTime": {
     "end_time": "2025-07-15T09:07:04.231436Z",
     "start_time": "2025-07-15T09:07:04.122395Z"
    }
   },
   "cell_type": "code",
   "source": "X_train, X_test, y_train, y_test = train_test_split(X, y, test_size=0.2, random_state=42, stratify=y)",
   "id": "b835326ec45dec2d",
   "outputs": [],
   "execution_count": 16
  },
  {
   "metadata": {},
   "cell_type": "markdown",
   "source": [
    "<h3>Подбор гиперпараметров модели</h3>\n",
    "<p>Grid Search по числу фильтров, kernel_size, dropout и размерам Dense-слоя.</p>\n",
    "<hr>"
   ],
   "id": "982a46158205ad3e"
  },
  {
   "metadata": {
    "ExecuteTime": {
     "end_time": "2025-07-15T09:12:02.442629Z",
     "start_time": "2025-07-15T09:07:04.248128Z"
    }
   },
   "cell_type": "code",
   "source": [
    "with tf.device(device_name):\n",
    "    param_grid = {\n",
    "        'filters': [64, 128],\n",
    "        'kernel_size': [5, 9],\n",
    "        'dropout': [0.2, 0.3],\n",
    "        'dense_units': [32, 64]\n",
    "    }\n",
    "\n",
    "    results = []\n",
    "\n",
    "    for filters in param_grid['filters']:\n",
    "        for kernel_size in param_grid['kernel_size']:\n",
    "            for dropout in param_grid['dropout']:\n",
    "                for dense_units in param_grid['dense_units']:\n",
    "                    print(f\"\\n=== filters={filters}, kernel_size={kernel_size}, dropout={dropout}, dense_units={dense_units} ===\")\n",
    "\n",
    "                    model = Sequential([\n",
    "                        Input(shape=(X_train.shape[1], 1)),\n",
    "                        Conv1D(filters, kernel_size, activation='relu', padding='same'),\n",
    "                        BatchNormalization(),\n",
    "                        Dropout(dropout),\n",
    "                        Conv1D(filters, kernel_size, activation='relu', padding='same'),\n",
    "                        BatchNormalization(),\n",
    "                        Dropout(dropout),\n",
    "                        GlobalMaxPooling1D(),\n",
    "                        Dense(dense_units, activation='relu'),\n",
    "                        Dropout(dropout),\n",
    "                        Dense(5, activation='softmax')\n",
    "                    ])\n",
    "\n",
    "                    model.compile(\n",
    "                        optimizer='adam',\n",
    "                        loss='categorical_crossentropy',\n",
    "                        metrics=['accuracy']\n",
    "                    )\n",
    "\n",
    "                    early_stop = EarlyStopping(monitor='val_loss', patience=3, restore_best_weights=True)\n",
    "                    reduce_lr = ReduceLROnPlateau(monitor='val_loss', factor=0.5, patience=2)\n",
    "\n",
    "                    history = model.fit(\n",
    "                        X_train, y_train,\n",
    "                        epochs=10,\n",
    "                        batch_size=64,\n",
    "                        validation_data=(X_test, y_test),\n",
    "                        callbacks=[early_stop, reduce_lr],\n",
    "                        class_weight=class_weight_dict,\n",
    "                        verbose=0  # чтобы не засорять вывод\n",
    "                    )\n",
    "\n",
    "                    val_loss, val_acc = model.evaluate(X_test, y_test, verbose=0)\n",
    "                    print(f\"Validation accuracy: {val_acc:.4f}\")\n",
    "                    results.append({\n",
    "                        'filters': filters,\n",
    "                        'kernel_size': kernel_size,\n",
    "                        'dropout': dropout,\n",
    "                        'dense_units': dense_units,\n",
    "                        'val_acc': val_acc\n",
    "                    })\n",
    "\n",
    "\n",
    "    results = sorted(results, key=lambda x: x['val_acc'], reverse=True)\n",
    "    print(\"\\nЛучшие комбинации параметров:\")\n",
    "    for r in results[:5]:\n",
    "        print(r)"
   ],
   "id": "6f2a1e9766035f9d",
   "outputs": [
    {
     "name": "stdout",
     "output_type": "stream",
     "text": [
      "\n",
      "=== filters=64, kernel_size=5, dropout=0.2, dense_units=32 ===\n",
      "Validation accuracy: 0.8401\n",
      "\n",
      "=== filters=64, kernel_size=5, dropout=0.2, dense_units=64 ===\n",
      "Validation accuracy: 0.7566\n",
      "\n",
      "=== filters=64, kernel_size=5, dropout=0.3, dense_units=32 ===\n",
      "Validation accuracy: 0.6495\n",
      "\n",
      "=== filters=64, kernel_size=5, dropout=0.3, dense_units=64 ===\n",
      "Validation accuracy: 0.7404\n",
      "\n",
      "=== filters=64, kernel_size=9, dropout=0.2, dense_units=32 ===\n",
      "Validation accuracy: 0.8733\n",
      "\n",
      "=== filters=64, kernel_size=9, dropout=0.2, dense_units=64 ===\n",
      "Validation accuracy: 0.9237\n",
      "\n",
      "=== filters=64, kernel_size=9, dropout=0.3, dense_units=32 ===\n",
      "Validation accuracy: 0.8888\n",
      "\n",
      "=== filters=64, kernel_size=9, dropout=0.3, dense_units=64 ===\n",
      "Validation accuracy: 0.8500\n",
      "\n",
      "=== filters=128, kernel_size=5, dropout=0.2, dense_units=32 ===\n",
      "Validation accuracy: 0.8838\n",
      "\n",
      "=== filters=128, kernel_size=5, dropout=0.2, dense_units=64 ===\n",
      "Validation accuracy: 0.8349\n",
      "\n",
      "=== filters=128, kernel_size=5, dropout=0.3, dense_units=32 ===\n",
      "Validation accuracy: 0.7739\n",
      "\n",
      "=== filters=128, kernel_size=5, dropout=0.3, dense_units=64 ===\n",
      "Validation accuracy: 0.8408\n",
      "\n",
      "=== filters=128, kernel_size=9, dropout=0.2, dense_units=32 ===\n",
      "Validation accuracy: 0.9251\n",
      "\n",
      "=== filters=128, kernel_size=9, dropout=0.2, dense_units=64 ===\n",
      "Validation accuracy: 0.8367\n",
      "\n",
      "=== filters=128, kernel_size=9, dropout=0.3, dense_units=32 ===\n",
      "Validation accuracy: 0.9299\n",
      "\n",
      "=== filters=128, kernel_size=9, dropout=0.3, dense_units=64 ===\n",
      "Validation accuracy: 0.8618\n",
      "\n",
      "Лучшие комбинации параметров:\n",
      "{'filters': 128, 'kernel_size': 9, 'dropout': 0.3, 'dense_units': 32, 'val_acc': 0.9298926591873169}\n",
      "{'filters': 128, 'kernel_size': 9, 'dropout': 0.2, 'dense_units': 32, 'val_acc': 0.9250970482826233}\n",
      "{'filters': 64, 'kernel_size': 9, 'dropout': 0.2, 'dense_units': 64, 'val_acc': 0.9237268567085266}\n",
      "{'filters': 64, 'kernel_size': 9, 'dropout': 0.3, 'dense_units': 32, 'val_acc': 0.8887873888015747}\n",
      "{'filters': 128, 'kernel_size': 5, 'dropout': 0.2, 'dense_units': 32, 'val_acc': 0.8837634325027466}\n"
     ]
    }
   ],
   "execution_count": 17
  },
  {
   "metadata": {},
   "cell_type": "markdown",
   "source": [
    "<h3>Финальная модель с оптимальными гиперпараметрами</h3>\n",
    "<p>Построение финальной архитектуры модели на лучших найденных параметрах (можно добавить третий Conv1D).</p>\n",
    "<hr>"
   ],
   "id": "d24095c77d8faee8"
  },
  {
   "metadata": {
    "ExecuteTime": {
     "end_time": "2025-07-15T09:12:02.554182Z",
     "start_time": "2025-07-15T09:12:02.475635Z"
    }
   },
   "cell_type": "code",
   "source": [
    "with tf.device(device_name):\n",
    "    model = Sequential([\n",
    "        Input(shape=(X.shape[1], 1)),\n",
    "        Conv1D(128, 5, activation='relu', padding='same'),\n",
    "        BatchNormalization(),\n",
    "        Dropout(0.2),\n",
    "        Conv1D(128, 5, activation='relu', padding='same'),\n",
    "        BatchNormalization(),\n",
    "        Dropout(0.2),\n",
    "        Conv1D(256, 5, activation='relu', padding='same'),\n",
    "        BatchNormalization(),\n",
    "        Dropout(0.2),\n",
    "        GlobalMaxPooling1D(),\n",
    "        Dense(64, activation='relu'),\n",
    "        Dropout(0.2),\n",
    "        Dense(5, activation='softmax')\n",
    "    ])\n",
    "\n",
    "    model.compile(\n",
    "        optimizer='Adam',\n",
    "        loss='categorical_crossentropy',\n",
    "        metrics=['accuracy', 'categorical_accuracy']\n",
    "    )"
   ],
   "id": "2c1a5c0b97ac367d",
   "outputs": [],
   "execution_count": 18
  },
  {
   "metadata": {},
   "cell_type": "markdown",
   "source": [
    "<h3>Обучение финальной модели</h3>\n",
    "<p>Запуск процесса обучения на 20 эпох с callbacks и использованием вычисленных весов классов.</p>\n",
    "<hr>"
   ],
   "id": "333febe7436aeb72"
  },
  {
   "metadata": {
    "ExecuteTime": {
     "end_time": "2025-07-15T09:12:41.017524Z",
     "start_time": "2025-07-15T09:12:02.558183Z"
    }
   },
   "cell_type": "code",
   "source": [
    "with tf.device(device_name):\n",
    "    history = model.fit(\n",
    "        X_train, y_train,\n",
    "        epochs=20,\n",
    "        batch_size=64,\n",
    "        validation_data=(X_test, y_test),\n",
    "        callbacks=[early_stop, reduce_lr],\n",
    "        class_weight=class_weight_dict,\n",
    "        verbose=1\n",
    "    )"
   ],
   "id": "f5ad6414a882632b",
   "outputs": [
    {
     "name": "stdout",
     "output_type": "stream",
     "text": [
      "Epoch 1/20\n",
      "274/274 [==============================] - 4s 13ms/step - loss: 1.3979 - accuracy: 0.3766 - categorical_accuracy: 0.3766 - val_loss: 1.6527 - val_accuracy: 0.2176 - val_categorical_accuracy: 0.2176 - lr: 0.0010\n",
      "Epoch 2/20\n",
      "274/274 [==============================] - 3s 12ms/step - loss: 0.9080 - accuracy: 0.4852 - categorical_accuracy: 0.4852 - val_loss: 1.1175 - val_accuracy: 0.5264 - val_categorical_accuracy: 0.5264 - lr: 0.0010\n",
      "Epoch 3/20\n",
      "274/274 [==============================] - 3s 12ms/step - loss: 0.7643 - accuracy: 0.6204 - categorical_accuracy: 0.6204 - val_loss: 0.6705 - val_accuracy: 0.8278 - val_categorical_accuracy: 0.8278 - lr: 0.0010\n",
      "Epoch 4/20\n",
      "274/274 [==============================] - 3s 12ms/step - loss: 0.7203 - accuracy: 0.6846 - categorical_accuracy: 0.6846 - val_loss: 0.5835 - val_accuracy: 0.8586 - val_categorical_accuracy: 0.8586 - lr: 0.0010\n",
      "Epoch 5/20\n",
      "274/274 [==============================] - 3s 12ms/step - loss: 0.6742 - accuracy: 0.7445 - categorical_accuracy: 0.7445 - val_loss: 0.8108 - val_accuracy: 0.7646 - val_categorical_accuracy: 0.7646 - lr: 0.0010\n",
      "Epoch 6/20\n",
      "274/274 [==============================] - 3s 12ms/step - loss: 0.6312 - accuracy: 0.7505 - categorical_accuracy: 0.7505 - val_loss: 0.5173 - val_accuracy: 0.9039 - val_categorical_accuracy: 0.9039 - lr: 0.0010\n",
      "Epoch 7/20\n",
      "274/274 [==============================] - 3s 13ms/step - loss: 0.6182 - accuracy: 0.7689 - categorical_accuracy: 0.7689 - val_loss: 0.6267 - val_accuracy: 0.8639 - val_categorical_accuracy: 0.8639 - lr: 0.0010\n",
      "Epoch 8/20\n",
      "274/274 [==============================] - 4s 13ms/step - loss: 0.6024 - accuracy: 0.7694 - categorical_accuracy: 0.7694 - val_loss: 0.4436 - val_accuracy: 0.9434 - val_categorical_accuracy: 0.9434 - lr: 0.0010\n",
      "Epoch 9/20\n",
      "274/274 [==============================] - 4s 13ms/step - loss: 0.6001 - accuracy: 0.7779 - categorical_accuracy: 0.7779 - val_loss: 0.8157 - val_accuracy: 0.7929 - val_categorical_accuracy: 0.7929 - lr: 0.0010\n",
      "Epoch 10/20\n",
      "274/274 [==============================] - 4s 13ms/step - loss: 0.5552 - accuracy: 0.7954 - categorical_accuracy: 0.7954 - val_loss: 0.5120 - val_accuracy: 0.8577 - val_categorical_accuracy: 0.8577 - lr: 0.0010\n",
      "Epoch 11/20\n",
      "274/274 [==============================] - 3s 13ms/step - loss: 0.4944 - accuracy: 0.8139 - categorical_accuracy: 0.8139 - val_loss: 0.4965 - val_accuracy: 0.9144 - val_categorical_accuracy: 0.9144 - lr: 5.0000e-04\n"
     ]
    }
   ],
   "execution_count": 19
  },
  {
   "metadata": {},
   "cell_type": "markdown",
   "source": [
    "<h3>Оценка финальной модели</h3>\n",
    "<p>Вычисление итоговых метрик качества на всём наборе данных.</p>\n",
    "<hr>"
   ],
   "id": "d3cf6216933ac9bc"
  },
  {
   "metadata": {
    "ExecuteTime": {
     "end_time": "2025-07-15T09:14:01.842322Z",
     "start_time": "2025-07-15T09:14:00.776881Z"
    }
   },
   "cell_type": "code",
   "source": [
    "loss, acc, cat_acc = model.evaluate(X_test, y_test, verbose=0)\n",
    "print(f\"Loss: {loss:.4f}\")\n",
    "print(f\"Accuracy: {acc:.4f}\")\n",
    "print(f\"Categorical accuracy: {cat_acc:.4f}\")\n",
    "\n",
    "y_pred_probs = model.predict(X_test)\n",
    "y_pred = np.argmax(y_pred_probs, axis=1)\n",
    "y_true = np.argmax(y_test, axis=1)\n",
    "\n",
    "print(\"Confusion Matrix:\")\n",
    "print(confusion_matrix(y_true, y_pred))\n",
    "\n",
    "print(\"\\nClassification Report:\")\n",
    "print(classification_report(y_true, y_pred, digits=4))\n",
    "\n",
    "print(f\"Macro F1-score: {f1_score(y_true, y_pred, average='macro'):.4f}\")"
   ],
   "id": "54c3b227cd4558e",
   "outputs": [
    {
     "name": "stdout",
     "output_type": "stream",
     "text": [
      "Loss: 0.4436\n",
      "Accuracy: 0.9434\n",
      "Categorical accuracy: 0.9434\n",
      "137/137 [==============================] - 0s 2ms/step\n",
      "Confusion Matrix:\n",
      "[[3533   41   13    6   31]\n",
      " [  53   56    2    0    0]\n",
      " [  51    0  220    6   13]\n",
      " [  17    0    2   13    0]\n",
      " [   9    0    4    0  309]]\n",
      "\n",
      "Classification Report:\n",
      "              precision    recall  f1-score   support\n",
      "\n",
      "           0     0.9645    0.9749    0.9697      3624\n",
      "           1     0.5773    0.5045    0.5385       111\n",
      "           2     0.9129    0.7586    0.8286       290\n",
      "           3     0.5200    0.4062    0.4561        32\n",
      "           4     0.8754    0.9596    0.9156       322\n",
      "\n",
      "    accuracy                         0.9434      4379\n",
      "   macro avg     0.7700    0.7208    0.7417      4379\n",
      "weighted avg     0.9415    0.9434    0.9417      4379\n",
      "\n",
      "Macro F1-score: 0.7417\n"
     ]
    }
   ],
   "execution_count": 21
  },
  {
   "metadata": {
    "ExecuteTime": {
     "end_time": "2025-07-15T09:53:13.461947Z",
     "start_time": "2025-07-15T09:53:13.446944Z"
    }
   },
   "cell_type": "code",
   "source": [
    "import tensorflow as tf\n",
    "print(tf.__version__)"
   ],
   "id": "65814352510e80dc",
   "outputs": [
    {
     "name": "stdout",
     "output_type": "stream",
     "text": [
      "2.10.1\n"
     ]
    }
   ],
   "execution_count": 22
  },
  {
   "metadata": {},
   "cell_type": "code",
   "outputs": [],
   "execution_count": null,
   "source": "",
   "id": "93f166fe410a3ef7"
  }
 ],
 "metadata": {
  "kernelspec": {
   "display_name": "Python 3",
   "language": "python",
   "name": "python3"
  },
  "language_info": {
   "codemirror_mode": {
    "name": "ipython",
    "version": 2
   },
   "file_extension": ".py",
   "mimetype": "text/x-python",
   "name": "python",
   "nbconvert_exporter": "python",
   "pygments_lexer": "ipython2",
   "version": "2.7.6"
  }
 },
 "nbformat": 4,
 "nbformat_minor": 5
}
